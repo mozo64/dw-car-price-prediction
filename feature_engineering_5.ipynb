{
 "cells": [
  {
   "cell_type": "code",
   "execution_count": 1,
   "metadata": {},
   "outputs": [],
   "source": [
    "import pandas as pd\n",
    "import numpy as np\n",
    "import collections\n",
    "from scipy import stats\n",
    "from datetime import datetime\n",
    "import matplotlib.pyplot as plt\n",
    "import math \n",
    "\n",
    "from mozo import num_to_range_categories, merge_with_features, how_many_levels, compare_and_combine, compare_and_combine_2, num_to_range_categories, stratified_sample"
   ]
  },
  {
   "cell_type": "code",
   "execution_count": 2,
   "metadata": {},
   "outputs": [],
   "source": [
    "train = pd.read_hdf('~/pml7/module3/input/train.car_price.h5')\n",
    "test = pd.read_hdf('~/pml7/module3/input/test.car_price.h5') #zbiór testowy bez odpowiedzi"
   ]
  },
  {
   "cell_type": "code",
   "execution_count": 2,
   "metadata": {},
   "outputs": [],
   "source": [
    "train = pd.read_hdf('output/newest_train.car_price.h5')\n",
    "test = pd.read_hdf('output/newest_test.car_price.h5') #zbiór testowy bez odpowiedzi"
   ]
  },
  {
   "cell_type": "code",
   "execution_count": 3,
   "metadata": {},
   "outputs": [
    {
     "data": {
      "text/plain": [
       "Index(['breadcrumb', 'created_at', 'price_currency', 'price_details',\n",
       "       'price_value', 'seller_address', 'seller_name', 'seller_type',\n",
       "       'feature_czujniki-parkowania-przednie',\n",
       "       'feature_poduszka-powietrzna-chroniąca-kolana',\n",
       "       ...\n",
       "       'pca_30', 'pca_31', 'pca_32', 'pca_33', 'pca_34', 'pca_35', 'pca_36',\n",
       "       'pca_37', 'pca_38', 'pca_39'],\n",
       "      dtype='object', length=344)"
      ]
     },
     "execution_count": 3,
     "metadata": {},
     "output_type": "execute_result"
    }
   ],
   "source": [
    "train.columns"
   ]
  },
  {
   "cell_type": "code",
   "execution_count": 4,
   "metadata": {},
   "outputs": [
    {
     "data": {
      "text/plain": [
       "count                 106385\n",
       "unique                 11405\n",
       "top       Radom, Mazowieckie\n",
       "freq                     657\n",
       "Name: seller_address, dtype: object"
      ]
     },
     "execution_count": 4,
     "metadata": {},
     "output_type": "execute_result"
    }
   ],
   "source": [
    "train['seller_address'].describe()"
   ]
  },
  {
   "cell_type": "code",
   "execution_count": 5,
   "metadata": {},
   "outputs": [
    {
     "data": {
      "text/plain": [
       "Radom, Mazowieckie                                           657\n",
       "Lublin, Lubelskie                                            523\n",
       "Kielce, Świętokrzyskie                                       499\n",
       "Ostrów Mazowiecka, ostrowski, Mazowieckie                    350\n",
       "Bydgoszcz, Kujawsko-pomorskie                                346\n",
       "                                                            ... \n",
       "Gronowo Elbląskie, elbląski, Warmińsko-mazurskie               1\n",
       "Skryta 1 - 63-600 Kępno, kępiński, Wielkopolskie (Polska)      1\n",
       "Szczepanki, brodnicki, Kujawsko-pomorskie                      1\n",
       "Bolesławice, bolesławiecki, Dolnośląskie                       1\n",
       "Kostów, kluczborski, Opolskie                                  1\n",
       "Name: seller_address, Length: 11405, dtype: int64"
      ]
     },
     "execution_count": 5,
     "metadata": {},
     "output_type": "execute_result"
    }
   ],
   "source": [
    "train['seller_address'].value_counts()"
   ]
  },
  {
   "cell_type": "code",
   "execution_count": null,
   "metadata": {},
   "outputs": [],
   "source": [
    "Wielkopolskie\n",
    "Kujawsko-pomorskie\n",
    "Małopolskie\n",
    "Łódzkie\n",
    "Dolnośląskie\n",
    "Lubelskie\n",
    "Lubuskie\n",
    "Mazowieckie\n",
    "Opolskie\n",
    "Podlaskie\n",
    "Pomorskie\n",
    "Śląskie\n",
    "Podkarpackie\n",
    "Świętokrzyskie\n",
    "Warmińsko-Mazurskie\n",
    "Zachodniopomorskie"
   ]
  },
  {
   "cell_type": "code",
   "execution_count": 28,
   "metadata": {},
   "outputs": [],
   "source": [
    "total = pd.concat([train, test], ignore_index=True)"
   ]
  },
  {
   "cell_type": "code",
   "execution_count": 29,
   "metadata": {},
   "outputs": [
    {
     "data": {
      "text/plain": [
       "'Małopolskie'"
      ]
     },
     "execution_count": 29,
     "metadata": {},
     "output_type": "execute_result"
    }
   ],
   "source": [
    "def get_wojewodzctwo(adres):\n",
    "    if adres is None: return '-1'\n",
    "    if adres.lower().find(\"wielkopolsk\") >= 0: return 'Wielkopolskie'\n",
    "    if adres.lower().find(\"kujawsk\") >= 0: return 'Kujawsko-pomorskie'    \n",
    "    if adres.lower().find(\"małopolsk\") >= 0: return 'Małopolskie'\n",
    "    if adres.lower().find(\"malopolsk\") >= 0: return 'Małopolskie'\n",
    "    if adres.lower().find(\"łódź\") >= 0: return 'Łódzkie'\n",
    "    if adres.lower().find(\"łódzki\") >= 0: return 'Łódzkie'\n",
    "    if adres.lower().find(\"lodzki\") >= 0: return 'Łódzkie'\n",
    "    if adres.lower().find(\"dolnośląsk\") >= 0: return 'Dolnośląskie'\n",
    "    if adres.lower().find(\"dolnoslask\") >= 0: return 'Dolnośląskie'\n",
    "    if adres.lower().find(\"dolny śląsk\") >= 0: return 'Dolnośląskie'\n",
    "    if adres.lower().find(\"lubels\") >= 0: return 'Lubelskie'\n",
    "    if adres.lower().find(\"lubusk\") >= 0: return 'Lubuskie'\n",
    "    if adres.lower().find(\"mazow\") >= 0: return 'Mazowieckie'\n",
    "    if adres.lower().find(\"opole\") >= 0: return 'Opolskie'\n",
    "    if adres.lower().find(\"opolskie\") >= 0: return 'Opolskie'\n",
    "    if adres.lower().find(\"podlask\") >= 0: return 'Podlaskie'\n",
    "    if adres.lower().find(\"zachodniopomorsk\") >= 0: return 'Zachodniopomorskie'\n",
    "    if adres.lower().find(\"pomorskie\") >= 0: return 'Pomorskie'\n",
    "    if adres.lower().find(\"slaskie\") >= 0: return 'Śląskie'\n",
    "    if adres.lower().find(\"śląskie\") >= 0: return 'Śląskie'\n",
    "    if adres.lower().find(\"śląsk\") >= 0: return 'Śląskie'\n",
    "    if adres.lower().find(\"podkarpac\") >= 0: return 'Podkarpackie'\n",
    "    if adres.lower().find(\"świętokrzyskie\") >= 0: return 'Świętokrzyskie'\n",
    "    if adres.lower().find(\"swietokrzyskie\") >= 0: return 'Świętokrzyskie'\n",
    "    if adres.lower().find(\"warmi\") >= 0: return 'Warmińsko-Mazurskie'\n",
    "    if adres.lower().find(\"mazur\") >= 0: return 'Warmińsko-Mazurskie'\n",
    "    return '-1'\n",
    "        \n",
    "get_wojewodzctwo('małopolsk')"
   ]
  },
  {
   "cell_type": "code",
   "execution_count": 32,
   "metadata": {},
   "outputs": [
    {
     "data": {
      "text/plain": [
       "Mazowieckie            22620\n",
       "Wielkopolskie          22125\n",
       "-1                     19209\n",
       "Śląskie                16155\n",
       "Małopolskie            12155\n",
       "Dolnośląskie           10411\n",
       "Łódzkie                 9698\n",
       "Pomorskie               7436\n",
       "Lubelskie               7088\n",
       "Kujawsko-pomorskie      6970\n",
       "Podkarpackie            5105\n",
       "Świętokrzyskie          5021\n",
       "Zachodniopomorskie      4734\n",
       "Warmińsko-Mazurskie     3767\n",
       "Lubuskie                3229\n",
       "Opolskie                2800\n",
       "Podlaskie               2093\n",
       "Name: seller_wojewodzctwo, dtype: int64"
      ]
     },
     "execution_count": 32,
     "metadata": {},
     "output_type": "execute_result"
    }
   ],
   "source": [
    "total['seller_wojewodzctwo'] = total.apply(lambda row: get_wojewodzctwo(row['seller_address']), axis=1)\n",
    "total['seller_wojewodzctwo'].value_counts()\n"
   ]
  },
  {
   "cell_type": "code",
   "execution_count": 38,
   "metadata": {},
   "outputs": [],
   "source": [
    "def categorial_to_percent_range(df, var_cat, n_cat):\n",
    "    counts = pd.DataFrame(df[var_cat].value_counts()).reset_index()\n",
    "    \n",
    "    def get_level(kod):\n",
    "        x = counts.loc[counts['index'] == kod, [var_cat]]\n",
    "        if x.empty:\n",
    "            return -1\n",
    "        else: \n",
    "            return x.values[0][0]\n",
    "        \n",
    "    df['encoded_' + var_cat] = df.apply(lambda row: get_level(row[var_cat]), axis=1)\n",
    "    print(df['encoded_' + var_cat].value_counts())\n",
    "    \n",
    "    num_to_range_categories(df, 'encoded_' + var_cat, n_cat=n_cat) \n",
    "    df['percent_range_' + var_cat] = df.apply(lambda row: int(row['range_'+('encoded_' + var_cat)+'_cat'].replace('perc_', '')), axis=1)\n",
    "    print(total['percent_range_' + var_cat].value_counts() )\n"
   ]
  },
  {
   "cell_type": "code",
   "execution_count": 40,
   "metadata": {},
   "outputs": [
    {
     "name": "stdout",
     "output_type": "stream",
     "text": [
      "22620    22620\n",
      "22125    22125\n",
      "19209    19209\n",
      "16155    16155\n",
      "12155    12155\n",
      "10411    10411\n",
      "9698      9698\n",
      "7436      7436\n",
      "7088      7088\n",
      "6970      6970\n",
      "5105      5105\n",
      "5021      5021\n",
      "4734      4734\n",
      "3767      3767\n",
      "3229      3229\n",
      "2800      2800\n",
      "2093      2093\n",
      "Name: encoded_seller_wojewodzctwo, dtype: int64\n",
      "perc_60     35364\n",
      "perc_20     31192\n",
      "perc_00     26749\n",
      "perc_100    22620\n",
      "perc_40     22566\n",
      "perc_80     22125\n",
      "Name: range_encoded_seller_wojewodzctwo_cat, dtype: int64\n",
      "['perc_00', 'perc_100', 'perc_20', 'perc_40', 'perc_60', 'perc_80']\n",
      "0\n",
      "60     35364\n",
      "20     31192\n",
      "0      26749\n",
      "100    22620\n",
      "40     22566\n",
      "80     22125\n",
      "Name: percent_range_seller_wojewodzctwo, dtype: int64\n"
     ]
    }
   ],
   "source": [
    "categorial_to_percent_range(total, 'seller_wojewodzctwo', 5)"
   ]
  },
  {
   "cell_type": "code",
   "execution_count": 41,
   "metadata": {},
   "outputs": [],
   "source": [
    "filter_col = ['car_id', \n",
    "    'seller_wojewodzctwo', 'encoded_seller_wojewodzctwo', 'percent_range_seller_wojewodzctwo'\n",
    "]"
   ]
  },
  {
   "cell_type": "code",
   "execution_count": 42,
   "metadata": {},
   "outputs": [],
   "source": [
    "total.loc[~total['price_value'].isnull(), filter_col].to_csv('output/ft_new_param_4_train.csv', index=False) \n",
    "total.loc[total['price_value'].isnull(), filter_col].to_csv('output/ft_new_param_4_test.csv', index=False)"
   ]
  },
  {
   "cell_type": "code",
   "execution_count": null,
   "metadata": {},
   "outputs": [],
   "source": []
  }
 ],
 "metadata": {
  "kernelspec": {
   "display_name": "Python 3",
   "language": "python",
   "name": "python3"
  },
  "language_info": {
   "codemirror_mode": {
    "name": "ipython",
    "version": 3
   },
   "file_extension": ".py",
   "mimetype": "text/x-python",
   "name": "python",
   "nbconvert_exporter": "python",
   "pygments_lexer": "ipython3",
   "version": "3.7.6"
  }
 },
 "nbformat": 4,
 "nbformat_minor": 4
}
