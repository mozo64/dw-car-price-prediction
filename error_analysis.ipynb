{
 "cells": [
  {
   "cell_type": "code",
   "execution_count": 1,
   "metadata": {},
   "outputs": [],
   "source": [
    "import pandas as pd\n",
    "import numpy as np\n",
    "np.random.seed(0)\n",
    "import re\n",
    "import xgboost as xgb\n",
    "from sklearn.model_selection import KFold\n",
    "from tqdm import tqdm\n",
    "\n",
    "import matplotlib.pyplot as plt\n",
    "\n",
    "pd.set_option('display.float_format', '{:.5f}'.format) # None , '{:,.2f}'.format"
   ]
  },
  {
   "cell_type": "markdown",
   "metadata": {},
   "source": [
    "## Funkcje pomocnicze"
   ]
  },
  {
   "cell_type": "code",
   "execution_count": 2,
   "metadata": {},
   "outputs": [],
   "source": [
    "def num_filter(val):\n",
    "    return re.sub('[^0-9]','', str(val))"
   ]
  },
  {
   "cell_type": "markdown",
   "metadata": {},
   "source": [
    "## Wczytujemy dane"
   ]
  },
  {
   "cell_type": "code",
   "execution_count": 4,
   "metadata": {},
   "outputs": [],
   "source": [
    "train = pd.read_hdf('../module3/input/train.car_price.h5').reset_index(drop=True)\n",
    "train.fillna(-1, inplace=True)"
   ]
  },
  {
   "cell_type": "markdown",
   "metadata": {},
   "source": [
    "## Feature engineering"
   ]
  },
  {
   "cell_type": "code",
   "execution_count": 4,
   "metadata": {},
   "outputs": [],
   "source": [
    "obj_feats = list(train.select_dtypes(np.object).columns)\n",
    "obj_feats = [x for x in obj_feats if x.startswith('param') or x.startswith('seller')]\n",
    "\n",
    "\n",
    "for feat in obj_feats:\n",
    "    train[\"{}_cat\".format(feat)] = train[feat].factorize()[0]\n",
    "    \n",
    "    \n",
    "train['param_rok-produkcji'] = train['param_rok-produkcji'].astype(np.int)    \n",
    "train['param_moc_norm'] = np.log( train['param_moc'].map(num_filter).astype(np.int) )\n",
    "train['param_pojemność-skokowa_norm'] = np.log( train['param_pojemność-skokowa'].map(num_filter).astype(np.int) )"
   ]
  },
  {
   "cell_type": "markdown",
   "metadata": {},
   "source": [
    "## Przygotowanie X, y"
   ]
  },
  {
   "cell_type": "code",
   "execution_count": 6,
   "metadata": {},
   "outputs": [],
   "source": [
    "black_list = ['car_id', 'price_details', 'price_value']\n",
    "feats = train.select_dtypes(include=[np.number, np.bool]).columns\n",
    "feats = [x for x in feats if x not in black_list]\n",
    "\n",
    "X = train[ feats ].values\n",
    "y = train['price_value'].values\n",
    "y_log = np.log(y)"
   ]
  },
  {
   "cell_type": "markdown",
   "metadata": {},
   "source": [
    "## Trenowanie modelu i prognozowanie"
   ]
  },
  {
   "cell_type": "code",
   "execution_count": 7,
   "metadata": {},
   "outputs": [],
   "source": [
    "xgb_params = {    \n",
    "    'max_depth': 10, \n",
    "    'n_estimators': 50, \n",
    "    'learning_rate': 0.3, \n",
    "    'subsample': 0.5, \n",
    "    'colsample_bytree': 0.9,\n",
    "}"
   ]
  },
  {
   "cell_type": "code",
   "execution_count": 8,
   "metadata": {},
   "outputs": [
    {
     "name": "stderr",
     "output_type": "stream",
     "text": [
      "2it [00:07,  3.54s/it]\n"
     ]
    }
   ],
   "source": [
    "price_value_pred = {}\n",
    "cv = KFold(n_splits=2)\n",
    "\n",
    "for train_idx, test_idx in tqdm(cv.split(X, y_log)):\n",
    "    X_train, y_log_train = X[train_idx], y_log[train_idx]\n",
    "    X_test, y_log_test   = X[test_idx], y_log[test_idx]\n",
    "    \n",
    "    model = xgb.XGBRegressor(**xgb_params)\n",
    "    model.fit(X_train, y_log_train)\n",
    "    y_log_pred = model.predict(X_test)\n",
    "    \n",
    "    \n",
    "    y_pred = np.exp(y_log_pred)\n",
    "    global_min = y.min()\n",
    "    y_pred[ y_pred < global_min] = global_min\n",
    "\n",
    "    price_value_pred.update( dict(zip(list(test_idx), list(y_pred))) )\n",
    "    \n",
    "train['price_value_pred'] = train.index.map(price_value_pred)"
   ]
  },
  {
   "cell_type": "markdown",
   "metadata": {},
   "source": [
    "## Analizujemy błędy\n",
    "\n",
    "Warto znaleźć od razu różnicę."
   ]
  },
  {
   "cell_type": "code",
   "execution_count": 9,
   "metadata": {},
   "outputs": [],
   "source": [
    "train['pred_diff'] = train['price_value'] - train['price_value_pred']\n",
    "train['pred_diff_abs'] = train['pred_diff'].abs()"
   ]
  },
  {
   "cell_type": "code",
   "execution_count": 10,
   "metadata": {},
   "outputs": [
    {
     "data": {
      "text/html": [
       "<div>\n",
       "<style scoped>\n",
       "    .dataframe tbody tr th:only-of-type {\n",
       "        vertical-align: middle;\n",
       "    }\n",
       "\n",
       "    .dataframe tbody tr th {\n",
       "        vertical-align: top;\n",
       "    }\n",
       "\n",
       "    .dataframe thead th {\n",
       "        text-align: right;\n",
       "    }\n",
       "</style>\n",
       "<table border=\"1\" class=\"dataframe\">\n",
       "  <thead>\n",
       "    <tr style=\"text-align: right;\">\n",
       "      <th></th>\n",
       "      <th>price_value</th>\n",
       "      <th>price_value_pred</th>\n",
       "      <th>pred_diff_abs</th>\n",
       "    </tr>\n",
       "  </thead>\n",
       "  <tbody>\n",
       "    <tr>\n",
       "      <th>84042</th>\n",
       "      <td>760000.00000</td>\n",
       "      <td>17769.89648</td>\n",
       "      <td>742230.10352</td>\n",
       "    </tr>\n",
       "    <tr>\n",
       "      <th>49385</th>\n",
       "      <td>750000.00000</td>\n",
       "      <td>13755.86523</td>\n",
       "      <td>736244.13477</td>\n",
       "    </tr>\n",
       "    <tr>\n",
       "      <th>64240</th>\n",
       "      <td>699900.00000</td>\n",
       "      <td>26044.68945</td>\n",
       "      <td>673855.31055</td>\n",
       "    </tr>\n",
       "    <tr>\n",
       "      <th>6647</th>\n",
       "      <td>689997.00000</td>\n",
       "      <td>1314603.37500</td>\n",
       "      <td>624606.37500</td>\n",
       "    </tr>\n",
       "    <tr>\n",
       "      <th>44783</th>\n",
       "      <td>799000.00000</td>\n",
       "      <td>200502.85938</td>\n",
       "      <td>598497.14062</td>\n",
       "    </tr>\n",
       "    <tr>\n",
       "      <th>...</th>\n",
       "      <td>...</td>\n",
       "      <td>...</td>\n",
       "      <td>...</td>\n",
       "    </tr>\n",
       "    <tr>\n",
       "      <th>22951</th>\n",
       "      <td>2450.00000</td>\n",
       "      <td>2450.47729</td>\n",
       "      <td>0.47729</td>\n",
       "    </tr>\n",
       "    <tr>\n",
       "      <th>84444</th>\n",
       "      <td>24400.00000</td>\n",
       "      <td>24399.58984</td>\n",
       "      <td>0.41016</td>\n",
       "    </tr>\n",
       "    <tr>\n",
       "      <th>26626</th>\n",
       "      <td>27500.00000</td>\n",
       "      <td>27500.41016</td>\n",
       "      <td>0.41016</td>\n",
       "    </tr>\n",
       "    <tr>\n",
       "      <th>61962</th>\n",
       "      <td>17500.00000</td>\n",
       "      <td>17500.37500</td>\n",
       "      <td>0.37500</td>\n",
       "    </tr>\n",
       "    <tr>\n",
       "      <th>77303</th>\n",
       "      <td>2900.00000</td>\n",
       "      <td>2899.82837</td>\n",
       "      <td>0.17163</td>\n",
       "    </tr>\n",
       "  </tbody>\n",
       "</table>\n",
       "<p>106494 rows × 3 columns</p>\n",
       "</div>"
      ],
      "text/plain": [
       "       price_value  price_value_pred  pred_diff_abs\n",
       "84042 760000.00000       17769.89648   742230.10352\n",
       "49385 750000.00000       13755.86523   736244.13477\n",
       "64240 699900.00000       26044.68945   673855.31055\n",
       "6647  689997.00000     1314603.37500   624606.37500\n",
       "44783 799000.00000      200502.85938   598497.14062\n",
       "...            ...               ...            ...\n",
       "22951   2450.00000        2450.47729        0.47729\n",
       "84444  24400.00000       24399.58984        0.41016\n",
       "26626  27500.00000       27500.41016        0.41016\n",
       "61962  17500.00000       17500.37500        0.37500\n",
       "77303   2900.00000        2899.82837        0.17163\n",
       "\n",
       "[106494 rows x 3 columns]"
      ]
     },
     "execution_count": 10,
     "metadata": {},
     "output_type": "execute_result"
    }
   ],
   "source": [
    "train[ ['price_value', 'price_value_pred', 'pred_diff_abs'] ].sort_values(by='pred_diff_abs', ascending=False)"
   ]
  },
  {
   "cell_type": "markdown",
   "metadata": {},
   "source": [
    "## Zobacz prawo Pareto (80 vs 20)."
   ]
  },
  {
   "cell_type": "code",
   "execution_count": 11,
   "metadata": {},
   "outputs": [
    {
     "data": {
      "image/png": "[encoded data removed]",
      "text/plain": [
       "<Figure size 1080x360 with 1 Axes>"
      ]
     },
     "metadata": {
      "needs_background": "light"
     },
     "output_type": "display_data"
    }
   ],
   "source": [
    "sum_error = train['pred_diff_abs'].sum()\n",
    "\n",
    "\n",
    "\n",
    "(train[['pred_diff_abs']]\n",
    "    .sort_values(by='pred_diff_abs', ascending=False)\n",
    "    .cumsum().div(sum_error)\n",
    "    .reset_index(drop=True)\n",
    "    .plot(figsize=(15, 5))\n",
    ")\n",
    "plt.hlines(xmin=0, xmax=train.shape[0], y=0.8, color='r');"
   ]
  },
  {
   "cell_type": "markdown",
   "metadata": {},
   "source": [
    "Innymi słowa 80% błędu generuje ok. 30k samochodoów. Chcesz poznać co to są za samochody i jakoś pomoc modelowi z tym lepiej poradzić!"
   ]
  },
  {
   "cell_type": "code",
   "execution_count": null,
   "metadata": {},
   "outputs": [],
   "source": []
  }
 ],
 "metadata": {
  "kernelspec": {
   "display_name": "Python 3",
   "language": "python",
   "name": "python3"
  },
  "language_info": {
   "codemirror_mode": {
    "name": "ipython",
    "version": 3
   },
   "file_extension": ".py",
   "mimetype": "text/x-python",
   "name": "python",
   "nbconvert_exporter": "python",
   "pygments_lexer": "ipython3",
   "version": "3.7.6"
  }
 },
 "nbformat": 4,
 "nbformat_minor": 4
}
